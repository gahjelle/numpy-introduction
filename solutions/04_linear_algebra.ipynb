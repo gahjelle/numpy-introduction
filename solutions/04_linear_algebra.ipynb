{
 "cells": [
  {
   "cell_type": "markdown",
   "id": "ce7941fd-16df-4f7e-8606-33915bc81dca",
   "metadata": {},
   "source": [
    "# Exercises: Linear Algebra"
   ]
  },
  {
   "cell_type": "code",
   "execution_count": 1,
   "id": "e18fe956-ff85-48dd-9b9e-acd2c22978e5",
   "metadata": {},
   "outputs": [],
   "source": [
    "import numpy as np"
   ]
  },
  {
   "cell_type": "markdown",
   "id": "6e86bbe4-5ae3-442f-8aff-fb28aead89a9",
   "metadata": {},
   "source": [
    "## 1. Linear algebra operations\n",
    "\n",
    "Create the following matrix:\n",
    "\n",
    "$$\n",
    "A = \\begin{bmatrix}\n",
    "   1 &  2 & -1 \\\\\n",
    "  -1 & -1 &  2 \\\\\n",
    "   3 &  0 & -1\n",
    "\\end{bmatrix}\n",
    "$$\n",
    "\n",
    "Calculate the following:\n",
    "\n",
    "- The transpose of $A$\n",
    "- The determinant of $A$\n",
    "- The inverse of $A$\n",
    "- The square of $A$, i.e. $A$ multiplied by itself"
   ]
  },
  {
   "cell_type": "code",
   "execution_count": 2,
   "id": "cb1dcd0f-3ed6-4d3a-9eb9-c389671cf2b3",
   "metadata": {},
   "outputs": [],
   "source": [
    "A = np.array([[1, 2, -1], [-1, -1, 2], [3, 0, -1]])"
   ]
  },
  {
   "cell_type": "code",
   "execution_count": 3,
   "id": "2573bdf9-210a-497a-bbde-a052d4bd69c0",
   "metadata": {},
   "outputs": [
    {
     "data": {
      "text/plain": [
       "array([[ 1, -1,  3],\n",
       "       [ 2, -1,  0],\n",
       "       [-1,  2, -1]])"
      ]
     },
     "execution_count": 3,
     "metadata": {},
     "output_type": "execute_result"
    }
   ],
   "source": [
    "A.T"
   ]
  },
  {
   "cell_type": "code",
   "execution_count": 4,
   "id": "240a02b0-6ab7-4164-af6c-3dc8d424aa2a",
   "metadata": {},
   "outputs": [
    {
     "data": {
      "text/plain": [
       "7.999999999999998"
      ]
     },
     "execution_count": 4,
     "metadata": {},
     "output_type": "execute_result"
    }
   ],
   "source": [
    "np.linalg.det(A)"
   ]
  },
  {
   "cell_type": "code",
   "execution_count": 5,
   "id": "64f7cae6-a590-48ca-b1dd-211eefcb13be",
   "metadata": {},
   "outputs": [
    {
     "data": {
      "text/plain": [
       "array([[ 0.125,  0.25 ,  0.375],\n",
       "       [ 0.625,  0.25 , -0.125],\n",
       "       [ 0.375,  0.75 ,  0.125]])"
      ]
     },
     "execution_count": 5,
     "metadata": {},
     "output_type": "execute_result"
    }
   ],
   "source": [
    "np.linalg.inv(A)"
   ]
  },
  {
   "cell_type": "code",
   "execution_count": 6,
   "id": "24f28f43-4200-474d-b422-43be37f826dd",
   "metadata": {},
   "outputs": [
    {
     "data": {
      "text/plain": [
       "array([[-4,  0,  4],\n",
       "       [ 6, -1, -3],\n",
       "       [ 0,  6, -2]])"
      ]
     },
     "execution_count": 6,
     "metadata": {},
     "output_type": "execute_result"
    }
   ],
   "source": [
    "A @ A"
   ]
  },
  {
   "cell_type": "markdown",
   "id": "48f256f9-2673-4550-81f3-dda60c86f5c7",
   "metadata": {},
   "source": [
    "## 2. Least-square equations\n",
    "\n",
    "Find the least-square solution to the following system:\n",
    "\n",
    "$$\n",
    "\\begin{bmatrix}\n",
    "   1 &  2 & -1 \\\\\n",
    "  -1 & -1 &  2 \\\\\n",
    "   3 &  0 & -1 \\\\\n",
    "   2 & -1 &  0 \\\\\n",
    "   0 &  1 & -2\n",
    "\\end{bmatrix}\n",
    "\\begin{bmatrix} x_1 \\\\ x_2 \\\\ x_3 \\end{bmatrix}\n",
    "= \\begin{bmatrix} 10 \\\\ 15 \\\\ 20 \\\\ 25 \\\\ 30 \\end{bmatrix}\n",
    "$$"
   ]
  },
  {
   "cell_type": "code",
   "execution_count": 7,
   "id": "f830739c-85c2-4167-87e5-45322979fc48",
   "metadata": {},
   "outputs": [],
   "source": [
    "A = np.array([[1, 2, -1], [-1, -1, 2], [3, 0, -1], [2, -1, 0], [0, 1, -2]])\n",
    "b = np.array([10, 15, 20, 25, 30])"
   ]
  },
  {
   "cell_type": "code",
   "execution_count": 8,
   "id": "e5b49e16-6d87-4eaa-a53f-cf2b5ddfe552",
   "metadata": {},
   "outputs": [
    {
     "data": {
      "text/plain": [
       "array([ 5.21875, -3.65625, -5.0625 ])"
      ]
     },
     "execution_count": 8,
     "metadata": {},
     "output_type": "execute_result"
    }
   ],
   "source": [
    "np.linalg.pinv(A) @ b"
   ]
  },
  {
   "cell_type": "code",
   "execution_count": 9,
   "id": "5fbcadad-6d1b-48d5-8b51-ce30e067144e",
   "metadata": {},
   "outputs": [
    {
     "data": {
      "text/plain": [
       "(array([ 5.21875, -3.65625, -5.0625 ]),\n",
       " array([1434.84375]),\n",
       " 3,\n",
       " array([4.52039613, 3.16227766, 1.25140676]))"
      ]
     },
     "execution_count": 9,
     "metadata": {},
     "output_type": "execute_result"
    }
   ],
   "source": [
    "np.linalg.lstsq(A, b, rcond=None)"
   ]
  },
  {
   "cell_type": "code",
   "execution_count": null,
   "id": "cf423b00-460f-4200-acba-4c3d43a11f65",
   "metadata": {},
   "outputs": [],
   "source": []
  }
 ],
 "metadata": {
  "jupytext": {
   "formats": "ipynb,py:percent"
  },
  "kernelspec": {
   "display_name": "Python 3 (ipykernel)",
   "language": "python",
   "name": "python3"
  },
  "language_info": {
   "codemirror_mode": {
    "name": "ipython",
    "version": 3
   },
   "file_extension": ".py",
   "mimetype": "text/x-python",
   "name": "python",
   "nbconvert_exporter": "python",
   "pygments_lexer": "ipython3",
   "version": "3.11.4"
  }
 },
 "nbformat": 4,
 "nbformat_minor": 5
}
