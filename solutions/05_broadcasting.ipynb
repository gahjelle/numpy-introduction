{
 "cells": [
  {
   "cell_type": "markdown",
   "id": "4775a4fe-bc77-41bd-a210-9bbb4bcd66c4",
   "metadata": {},
   "source": [
    "# Exercises: Broadcasting"
   ]
  },
  {
   "cell_type": "code",
   "execution_count": 1,
   "id": "f49bdbde-bde9-4f71-9d74-366a2b9dbc94",
   "metadata": {},
   "outputs": [],
   "source": [
    "import numpy as np"
   ]
  },
  {
   "cell_type": "markdown",
   "id": "b9a14763-4e1a-4977-bc56-4dea16d241bf",
   "metadata": {},
   "source": [
    "## 1. Combine arrays and scalars\n",
    "\n",
    "Create a random $4 \\times 2$ array named $A$. Calculate the following expressions:\n",
    "\n",
    "- $A + 1$\n",
    "- $3A$\n",
    "- $2A - 3$\n",
    "\n",
    "Make sure you understand the results."
   ]
  },
  {
   "cell_type": "code",
   "execution_count": 2,
   "id": "1ee2d968-b6ac-47d1-aec4-a93af541de38",
   "metadata": {},
   "outputs": [
    {
     "data": {
      "text/plain": [
       "array([[1, 2],\n",
       "       [4, 3],\n",
       "       [4, 5],\n",
       "       [7, 5]])"
      ]
     },
     "execution_count": 2,
     "metadata": {},
     "output_type": "execute_result"
    }
   ],
   "source": [
    "rng = np.random.default_rng(seed=2023)\n",
    "A = rng.poisson(3, size=(4, 2))\n",
    "A"
   ]
  },
  {
   "cell_type": "code",
   "execution_count": 3,
   "id": "322291ff-2fac-4c05-bdc4-afb39344aa43",
   "metadata": {},
   "outputs": [
    {
     "data": {
      "text/plain": [
       "array([[2, 3],\n",
       "       [5, 4],\n",
       "       [5, 6],\n",
       "       [8, 6]])"
      ]
     },
     "execution_count": 3,
     "metadata": {},
     "output_type": "execute_result"
    }
   ],
   "source": [
    "A + 1"
   ]
  },
  {
   "cell_type": "code",
   "execution_count": 4,
   "id": "afdbaaeb-27c6-45f8-abc2-ab80c8ce2de6",
   "metadata": {},
   "outputs": [
    {
     "data": {
      "text/plain": [
       "array([[ 3,  6],\n",
       "       [12,  9],\n",
       "       [12, 15],\n",
       "       [21, 15]])"
      ]
     },
     "execution_count": 4,
     "metadata": {},
     "output_type": "execute_result"
    }
   ],
   "source": [
    "3 * A"
   ]
  },
  {
   "cell_type": "code",
   "execution_count": 5,
   "id": "f96ac35a-2f73-4f5f-acc4-12509b34baca",
   "metadata": {},
   "outputs": [
    {
     "data": {
      "text/plain": [
       "array([[-1,  1],\n",
       "       [ 5,  3],\n",
       "       [ 5,  7],\n",
       "       [11,  7]])"
      ]
     },
     "execution_count": 5,
     "metadata": {},
     "output_type": "execute_result"
    }
   ],
   "source": [
    "2 * A - 3"
   ]
  },
  {
   "cell_type": "markdown",
   "id": "62d021df-954f-41db-b20b-21ea8fc9faa7",
   "metadata": {},
   "source": [
    "## 2. Combine 2-D and 1-D arrays\n",
    "\n",
    "Create a random $3 \\times 4$ array $A$, a random $3$ array $x$, and a random $4$ array $y$.\n",
    "\n",
    "Which of the following expressions are allowed? Why?\n",
    "\n",
    "- `A + x`\n",
    "- `A * y` (elementwise multiplication)\n",
    "- `A * x[:, np.newaxis]`\n",
    "- `A - y[:, np.newaxis]`"
   ]
  },
  {
   "cell_type": "code",
   "execution_count": 6,
   "id": "3b5a2809-0c62-490c-81f4-ccf447abc4d7",
   "metadata": {},
   "outputs": [],
   "source": [
    "A = rng.poisson(3, size=(3, 4))\n",
    "x = rng.poisson(3, size=3)\n",
    "y = rng.poisson(3, size=4)"
   ]
  },
  {
   "cell_type": "code",
   "execution_count": 7,
   "id": "9335c1dd-1841-4126-bb8f-3a803941d73b",
   "metadata": {},
   "outputs": [],
   "source": [
    "# A + x  # Not allowed because the last dimensions are not compatible (A: 4, x: 3)"
   ]
  },
  {
   "cell_type": "code",
   "execution_count": 8,
   "id": "b3b6d29b-a059-4f7a-939d-845c4a7fcb98",
   "metadata": {},
   "outputs": [
    {
     "data": {
      "text/plain": [
       "array([[12,  2,  3,  3],\n",
       "       [ 9,  8,  3,  9],\n",
       "       [ 6,  8,  2, 18]])"
      ]
     },
     "execution_count": 8,
     "metadata": {},
     "output_type": "execute_result"
    }
   ],
   "source": [
    "A * y"
   ]
  },
  {
   "cell_type": "code",
   "execution_count": 9,
   "id": "2383966c-d7c6-4e5f-bdd0-818d66e8f3d9",
   "metadata": {},
   "outputs": [
    {
     "data": {
      "text/plain": [
       "array([[16,  4, 12,  4],\n",
       "       [ 9, 12,  9,  9],\n",
       "       [ 8, 16,  8, 24]])"
      ]
     },
     "execution_count": 9,
     "metadata": {},
     "output_type": "execute_result"
    }
   ],
   "source": [
    "A * x[:, np.newaxis]"
   ]
  },
  {
   "cell_type": "code",
   "execution_count": 10,
   "id": "d680c513-80b9-44aa-9991-e709ceb57dd8",
   "metadata": {},
   "outputs": [],
   "source": [
    "# A - y[:, np.newaxis]  # Not allowed because second-to-last dimensions are not compatible - but y[np.newaxis, :] would be allowed"
   ]
  },
  {
   "cell_type": "markdown",
   "id": "8065db4a-9c86-4ab9-9da2-2635eb327e07",
   "metadata": {},
   "source": [
    "## 3. Higher dimensions\n",
    "\n",
    "Create a random $5 \\times 3 \\times 3$ array. You can think of this as a vector of five $3 \\times 3$ matrices.\n",
    "\n",
    "Calculate the dot product of each of these five matrices with the vector $[1 \\, 2 \\, 3]$."
   ]
  },
  {
   "cell_type": "code",
   "execution_count": 11,
   "id": "3636ed4f-e92b-440e-a414-73c948daa3e6",
   "metadata": {},
   "outputs": [
    {
     "data": {
      "text/plain": [
       "array([[[4, 1, 2],\n",
       "        [4, 2, 1],\n",
       "        [6, 0, 3]],\n",
       "\n",
       "       [[1, 5, 1],\n",
       "        [5, 3, 4],\n",
       "        [2, 6, 3]],\n",
       "\n",
       "       [[5, 4, 2],\n",
       "        [4, 1, 2],\n",
       "        [2, 2, 4]],\n",
       "\n",
       "       [[1, 4, 3],\n",
       "        [3, 2, 4],\n",
       "        [1, 5, 3]],\n",
       "\n",
       "       [[4, 1, 4],\n",
       "        [2, 2, 3],\n",
       "        [2, 2, 3]]])"
      ]
     },
     "execution_count": 11,
     "metadata": {},
     "output_type": "execute_result"
    }
   ],
   "source": [
    "A = rng.poisson(3, size=(5, 3, 3))\n",
    "A"
   ]
  },
  {
   "cell_type": "code",
   "execution_count": 12,
   "id": "b1ab90c0-c995-4c36-a028-38ea354751b5",
   "metadata": {},
   "outputs": [
    {
     "data": {
      "text/plain": [
       "array([[12, 11, 15],\n",
       "       [14, 23, 23],\n",
       "       [19, 12, 18],\n",
       "       [18, 19, 20],\n",
       "       [18, 15, 15]])"
      ]
     },
     "execution_count": 12,
     "metadata": {},
     "output_type": "execute_result"
    }
   ],
   "source": [
    "A @ np.array([1, 2, 3])"
   ]
  },
  {
   "cell_type": "code",
   "execution_count": 13,
   "id": "e648b3cd-a186-4754-b7ac-6b4f64883486",
   "metadata": {},
   "outputs": [
    {
     "data": {
      "text/plain": [
       "array([12, 11, 15])"
      ]
     },
     "execution_count": 13,
     "metadata": {},
     "output_type": "execute_result"
    }
   ],
   "source": [
    "A[0] @ np.array([1, 2, 3])"
   ]
  },
  {
   "cell_type": "code",
   "execution_count": null,
   "id": "e363ef59-ae49-4ce2-b37c-9c1d58ed537b",
   "metadata": {},
   "outputs": [],
   "source": []
  }
 ],
 "metadata": {
  "jupytext": {
   "formats": "ipynb,py:percent"
  },
  "kernelspec": {
   "display_name": "Python 3 (ipykernel)",
   "language": "python",
   "name": "python3"
  },
  "language_info": {
   "codemirror_mode": {
    "name": "ipython",
    "version": 3
   },
   "file_extension": ".py",
   "mimetype": "text/x-python",
   "name": "python",
   "nbconvert_exporter": "python",
   "pygments_lexer": "ipython3",
   "version": "3.11.4"
  }
 },
 "nbformat": 4,
 "nbformat_minor": 5
}
