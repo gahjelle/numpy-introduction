{
 "cells": [
  {
   "cell_type": "markdown",
   "id": "5cca0f40-4e58-4335-bf79-761469d766a6",
   "metadata": {},
   "source": [
    "# Exercises: Random Numbers"
   ]
  },
  {
   "cell_type": "code",
   "execution_count": 1,
   "id": "3ae46f56-7707-4825-aa87-4c9679f8051e",
   "metadata": {},
   "outputs": [],
   "source": [
    "import numpy as np"
   ]
  },
  {
   "cell_type": "markdown",
   "id": "f9a581e2-df93-418d-9463-0ce021ecad90",
   "metadata": {},
   "source": [
    "## 1. Create a Pseudo-Random Number Generator (PRNG) instance\n",
    "\n",
    "Create a PRNG and name it `rng`. Don't use a seed. Create several random numbers with `rng.random()`.\n",
    "Then, create a new, seedless `rng` and create several new random numbers. Note that these are different from before."
   ]
  },
  {
   "cell_type": "code",
   "execution_count": 2,
   "id": "040c9cbf-2d39-46a2-8e4d-b8d14e0ce62d",
   "metadata": {},
   "outputs": [],
   "source": [
    "rng = np.random.default_rng()"
   ]
  },
  {
   "cell_type": "code",
   "execution_count": 3,
   "id": "6d49b25c-dbae-4bc7-aa92-b9f1ff18ef52",
   "metadata": {},
   "outputs": [
    {
     "data": {
      "text/plain": [
       "0.2736845674068784"
      ]
     },
     "execution_count": 3,
     "metadata": {},
     "output_type": "execute_result"
    }
   ],
   "source": [
    "rng.random()"
   ]
  },
  {
   "cell_type": "code",
   "execution_count": 4,
   "id": "46770268-5aec-46a9-ad8d-39eaf88dd3b7",
   "metadata": {},
   "outputs": [
    {
     "data": {
      "text/plain": [
       "0.5498593418825777"
      ]
     },
     "execution_count": 4,
     "metadata": {},
     "output_type": "execute_result"
    }
   ],
   "source": [
    "rng.random()"
   ]
  },
  {
   "cell_type": "code",
   "execution_count": 5,
   "id": "26e3eac7-c899-4712-a5c3-beead79c28fb",
   "metadata": {},
   "outputs": [
    {
     "data": {
      "text/plain": [
       "0.7712279195932138"
      ]
     },
     "execution_count": 5,
     "metadata": {},
     "output_type": "execute_result"
    }
   ],
   "source": [
    "rng.random()"
   ]
  },
  {
   "cell_type": "code",
   "execution_count": 6,
   "id": "ce1a2785-b667-4a2c-ad97-543562e00d5a",
   "metadata": {},
   "outputs": [],
   "source": [
    "rng = np.random.default_rng()"
   ]
  },
  {
   "cell_type": "code",
   "execution_count": 7,
   "id": "65367ac3-59a8-4228-a675-25e1211afc10",
   "metadata": {},
   "outputs": [
    {
     "data": {
      "text/plain": [
       "0.595765222962484"
      ]
     },
     "execution_count": 7,
     "metadata": {},
     "output_type": "execute_result"
    }
   ],
   "source": [
    "rng.random()"
   ]
  },
  {
   "cell_type": "code",
   "execution_count": 8,
   "id": "0d52dc55-700d-44f6-94fb-b0c3978cb175",
   "metadata": {},
   "outputs": [
    {
     "data": {
      "text/plain": [
       "0.7433689112551417"
      ]
     },
     "execution_count": 8,
     "metadata": {},
     "output_type": "execute_result"
    }
   ],
   "source": [
    "rng.random()"
   ]
  },
  {
   "cell_type": "code",
   "execution_count": 9,
   "id": "503eb65a-e8d7-4bba-85b3-ab0c2acb80f3",
   "metadata": {},
   "outputs": [
    {
     "data": {
      "text/plain": [
       "0.3441534534725339"
      ]
     },
     "execution_count": 9,
     "metadata": {},
     "output_type": "execute_result"
    }
   ],
   "source": [
    "rng.random()"
   ]
  },
  {
   "cell_type": "markdown",
   "id": "496016e4-19bb-4e71-8535-260c81178f3d",
   "metadata": {},
   "source": [
    "## 2. Work with seeds\n",
    "\n",
    "Create a PRNG and seed it with a fixed number. Create a vector of 5 random normal-distributed numbers.\n",
    "Then, create a new PRNG with the same seed, and create a new vector of 5 random normal-distributed numbers. Observe that the numbers are identical to before.\n",
    "\n",
    "Finally, create a PRNG with a different seed and use it to create a new vector of 5 random normal-distributed numbers."
   ]
  },
  {
   "cell_type": "code",
   "execution_count": 10,
   "id": "7346d23d-1980-40f7-8d57-8c3ad7dedc89",
   "metadata": {},
   "outputs": [],
   "source": [
    "rng = np.random.default_rng(seed=2023)"
   ]
  },
  {
   "cell_type": "code",
   "execution_count": 11,
   "id": "ea6f8df4-3e33-4bf1-bc4d-83b5e1ab48f6",
   "metadata": {},
   "outputs": [
    {
     "data": {
      "text/plain": [
       "array([ 0.60172129,  1.15161897, -1.35946236,  0.22205533, -0.77586755])"
      ]
     },
     "execution_count": 11,
     "metadata": {},
     "output_type": "execute_result"
    }
   ],
   "source": [
    "rng.normal(size=5)"
   ]
  },
  {
   "cell_type": "code",
   "execution_count": 12,
   "id": "79a9bc99-2a2e-4244-a74d-b716b5121604",
   "metadata": {},
   "outputs": [],
   "source": [
    "rng = np.random.default_rng(seed=2023)"
   ]
  },
  {
   "cell_type": "code",
   "execution_count": 13,
   "id": "c97226cb-bd1b-4a6a-b90e-e94d3839e78e",
   "metadata": {},
   "outputs": [
    {
     "data": {
      "text/plain": [
       "array([ 0.60172129,  1.15161897, -1.35946236,  0.22205533, -0.77586755])"
      ]
     },
     "execution_count": 13,
     "metadata": {},
     "output_type": "execute_result"
    }
   ],
   "source": [
    "rng.normal(size=5)"
   ]
  },
  {
   "cell_type": "code",
   "execution_count": 14,
   "id": "ce56c7e3-95a5-469b-8a42-62f9ebc2cddf",
   "metadata": {},
   "outputs": [],
   "source": [
    "rng = np.random.default_rng(seed=2024)"
   ]
  },
  {
   "cell_type": "code",
   "execution_count": 15,
   "id": "720900f7-0023-44dd-8650-7c0c400b8320",
   "metadata": {},
   "outputs": [
    {
     "data": {
      "text/plain": [
       "array([ 1.02885687,  1.64192004,  1.14671953, -0.97317952, -1.3928001 ])"
      ]
     },
     "execution_count": 15,
     "metadata": {},
     "output_type": "execute_result"
    }
   ],
   "source": [
    "rng.normal(size=5)"
   ]
  },
  {
   "cell_type": "markdown",
   "id": "8dc2b5df-336c-45e0-8c77-f057f30f6505",
   "metadata": {},
   "source": [
    "## 3. Sample from a list of numbers\n",
    "\n",
    "Create an array named `squares` that contains the square numbers _0², 1², 2², ..., 9²_.\n",
    "Use a PRNG (`rng.choice()`) to sample 20 numbers from `squares`."
   ]
  },
  {
   "cell_type": "code",
   "execution_count": 16,
   "id": "7cb4e021-d953-47bb-9c41-70a522ab5697",
   "metadata": {},
   "outputs": [],
   "source": [
    "squares = np.arange(10)**2"
   ]
  },
  {
   "cell_type": "code",
   "execution_count": 17,
   "id": "a9c777dd-6e87-4a64-be28-d3196ead9939",
   "metadata": {},
   "outputs": [],
   "source": [
    "rng = np.random.default_rng(seed=2023)"
   ]
  },
  {
   "cell_type": "code",
   "execution_count": 18,
   "id": "a69eba8f-eb56-494d-afba-f834a7cd223b",
   "metadata": {},
   "outputs": [
    {
     "data": {
      "text/plain": [
       "array([16,  0,  1,  4,  4,  1, 25, 16,  4, 36,  0, 25,  4, 49,  4, 25, 16,\n",
       "       64,  1,  1])"
      ]
     },
     "execution_count": 18,
     "metadata": {},
     "output_type": "execute_result"
    }
   ],
   "source": [
    "rng.choice(squares, size=20, replace=True)"
   ]
  },
  {
   "cell_type": "code",
   "execution_count": null,
   "id": "fd944f18-a676-433f-ace9-a0c0d7f24fb8",
   "metadata": {},
   "outputs": [],
   "source": []
  }
 ],
 "metadata": {
  "jupytext": {
   "formats": "ipynb,py:percent"
  },
  "kernelspec": {
   "display_name": "Python 3 (ipykernel)",
   "language": "python",
   "name": "python3"
  },
  "language_info": {
   "codemirror_mode": {
    "name": "ipython",
    "version": 3
   },
   "file_extension": ".py",
   "mimetype": "text/x-python",
   "name": "python",
   "nbconvert_exporter": "python",
   "pygments_lexer": "ipython3",
   "version": "3.11.4"
  }
 },
 "nbformat": 4,
 "nbformat_minor": 5
}
