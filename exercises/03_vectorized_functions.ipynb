{
 "cells": [
  {
   "cell_type": "markdown",
   "id": "cc93c891-42ce-46cb-8909-1501c342ecb6",
   "metadata": {},
   "source": [
    "# Exercises: Vectorized Operations"
   ]
  },
  {
   "cell_type": "code",
   "execution_count": 1,
   "id": "7a2a065f-7083-42ce-b773-25769e11b529",
   "metadata": {},
   "outputs": [],
   "source": [
    "import numpy as np"
   ]
  },
  {
   "cell_type": "markdown",
   "id": "47cd1c0f-aae6-4f9a-ae08-3568fed41fd5",
   "metadata": {},
   "source": [
    "## 1. Find values of a function\n",
    "\n",
    "Create an array `x` of length 201 with values from `-10` to `10`. Compute the following functions:\n",
    "\n",
    "- $f(x) = x^2$\n",
    "- $f(x) = \\log x$ (What happens for invalid values of $x$?)\n",
    "- $f(x) = 1 + 2 \\sin x$ "
   ]
  },
  {
   "cell_type": "code",
   "execution_count": null,
   "id": "a37e2383-32ad-4085-8e14-f8dcbdcca988",
   "metadata": {},
   "outputs": [],
   "source": []
  },
  {
   "cell_type": "markdown",
   "id": "0cb48cfa-d0a0-47c7-b061-6c9dd535f7bc",
   "metadata": {},
   "source": [
    "## 2. Compare vectorized and non-vectorized code\n",
    "\n",
    "Redo the previous exercise for one of the functions, but this time solve it using an explicit loop instead of vectorization.\n",
    "\n",
    "How do the two solutions compare in terms of **readability** and **performance**?"
   ]
  },
  {
   "cell_type": "code",
   "execution_count": null,
   "id": "8834f7da-e95c-414b-8c0f-408df09c1b21",
   "metadata": {},
   "outputs": [],
   "source": []
  }
 ],
 "metadata": {
  "jupytext": {
   "formats": "ipynb,py:percent"
  },
  "kernelspec": {
   "display_name": "Python 3 (ipykernel)",
   "language": "python",
   "name": "python3"
  },
  "language_info": {
   "codemirror_mode": {
    "name": "ipython",
    "version": 3
   },
   "file_extension": ".py",
   "mimetype": "text/x-python",
   "name": "python",
   "nbconvert_exporter": "python",
   "pygments_lexer": "ipython3",
   "version": "3.11.4"
  }
 },
 "nbformat": 4,
 "nbformat_minor": 5
}
