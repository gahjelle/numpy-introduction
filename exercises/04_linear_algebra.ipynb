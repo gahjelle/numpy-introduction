{
 "cells": [
  {
   "cell_type": "markdown",
   "id": "ce7941fd-16df-4f7e-8606-33915bc81dca",
   "metadata": {},
   "source": [
    "# Exercises: Linear Algebra"
   ]
  },
  {
   "cell_type": "code",
   "execution_count": 1,
   "id": "e18fe956-ff85-48dd-9b9e-acd2c22978e5",
   "metadata": {},
   "outputs": [],
   "source": [
    "import numpy as np"
   ]
  },
  {
   "cell_type": "markdown",
   "id": "6e86bbe4-5ae3-442f-8aff-fb28aead89a9",
   "metadata": {},
   "source": [
    "## 1. Linear algebra operations\n",
    "\n",
    "Create the following matrix:\n",
    "\n",
    "$$\n",
    "A = \\begin{bmatrix}\n",
    "   1 &  2 & -1 \\\\\n",
    "  -1 & -1 &  2 \\\\\n",
    "   3 &  0 & -1\n",
    "\\end{bmatrix}\n",
    "$$\n",
    "\n",
    "Calculate the following:\n",
    "\n",
    "- The transpose of $A$\n",
    "- The determinant of $A$\n",
    "- The inverse of $A$\n",
    "- The square of $A$, i.e. $A$ multiplied by itself"
   ]
  },
  {
   "cell_type": "code",
   "execution_count": null,
   "id": "cb1dcd0f-3ed6-4d3a-9eb9-c389671cf2b3",
   "metadata": {},
   "outputs": [],
   "source": []
  },
  {
   "cell_type": "markdown",
   "id": "48f256f9-2673-4550-81f3-dda60c86f5c7",
   "metadata": {},
   "source": [
    "## 2. Least-square equations\n",
    "\n",
    "Find the least-square solution to the following system:\n",
    "\n",
    "$$\n",
    "\\begin{bmatrix}\n",
    "   1 &  2 & -1 \\\\\n",
    "  -1 & -1 &  2 \\\\\n",
    "   3 &  0 & -1 \\\\\n",
    "   2 & -1 &  0 \\\\\n",
    "   0 &  1 & -2\n",
    "\\end{bmatrix}\n",
    "\\begin{bmatrix} x_1 \\\\ x_2 \\\\ x_3 \\end{bmatrix}\n",
    "= \\begin{bmatrix} 10 \\\\ 15 \\\\ 20 \\\\ 25 \\\\ 30 \\end{bmatrix}\n",
    "$$"
   ]
  },
  {
   "cell_type": "code",
   "execution_count": null,
   "id": "f830739c-85c2-4167-87e5-45322979fc48",
   "metadata": {},
   "outputs": [],
   "source": []
  }
 ],
 "metadata": {
  "jupytext": {
   "formats": "ipynb,py:percent"
  },
  "kernelspec": {
   "display_name": "Python 3 (ipykernel)",
   "language": "python",
   "name": "python3"
  },
  "language_info": {
   "codemirror_mode": {
    "name": "ipython",
    "version": 3
   },
   "file_extension": ".py",
   "mimetype": "text/x-python",
   "name": "python",
   "nbconvert_exporter": "python",
   "pygments_lexer": "ipython3",
   "version": "3.11.4"
  }
 },
 "nbformat": 4,
 "nbformat_minor": 5
}
