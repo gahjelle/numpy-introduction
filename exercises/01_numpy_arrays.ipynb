{
 "cells": [
  {
   "cell_type": "markdown",
   "id": "5b3ed69a-25ff-4c80-910b-2ec007e44768",
   "metadata": {},
   "source": [
    "# Exercises: NumPy Arrays"
   ]
  },
  {
   "cell_type": "code",
   "execution_count": 1,
   "id": "af78ecc4-c722-44bf-b33e-160f03fddbfc",
   "metadata": {},
   "outputs": [],
   "source": [
    "import numpy as np"
   ]
  },
  {
   "cell_type": "markdown",
   "id": "12e09bee-f33d-468f-bf79-950f2789d2c1",
   "metadata": {},
   "source": [
    "## 1. Create a specific array\n",
    "\n",
    "Create an array representing the following matrix with NumPy:\n",
    "\n",
    "$$\n",
    "\\begin{bmatrix}\n",
    "  1 &  4 & -2 &  1 \\\\\n",
    "  2 & -1 &  0 &  3 \\\\\n",
    "  0 &  0 &  1 &  9\n",
    "\\end{bmatrix}\n",
    "$$"
   ]
  },
  {
   "cell_type": "code",
   "execution_count": null,
   "id": "ba236c4c-7515-4fc6-9719-df6414a1f828",
   "metadata": {},
   "outputs": [],
   "source": []
  },
  {
   "cell_type": "markdown",
   "id": "b3ec6549-7ce6-45a4-bdc9-8a8ffd5fc9e0",
   "metadata": {},
   "source": [
    "## 2. Play with data types\n",
    "\n",
    "Create the same array as above, but make sure each element is a floating point number."
   ]
  },
  {
   "cell_type": "code",
   "execution_count": null,
   "id": "53c9822d-effc-4f92-8025-a94033c4d313",
   "metadata": {},
   "outputs": [],
   "source": []
  },
  {
   "cell_type": "markdown",
   "id": "e3a8830e-4026-4022-9df4-cb6b5e5a459f",
   "metadata": {},
   "source": [
    "## 3. Prepare an array of a specific shape\n",
    "\n",
    "Create an array with all elements being `0` with the same shape as the array in exercise 1."
   ]
  },
  {
   "cell_type": "code",
   "execution_count": null,
   "id": "339c8c7a-ea2c-46d0-869a-1f746b48cb06",
   "metadata": {},
   "outputs": [],
   "source": []
  },
  {
   "cell_type": "markdown",
   "id": "fdf88b31-92d2-4d75-8bc7-8e46eb6fcd47",
   "metadata": {},
   "source": [
    "## 4. Create a constant array\n",
    "\n",
    "Create an array with 5 rows and 2 columns where all elements have the value `3.14`."
   ]
  },
  {
   "cell_type": "code",
   "execution_count": null,
   "id": "d8e5562b-aa44-4320-a30c-56cc945652fb",
   "metadata": {},
   "outputs": [],
   "source": []
  }
 ],
 "metadata": {
  "jupytext": {
   "formats": "ipynb,py:percent"
  },
  "kernelspec": {
   "display_name": "Python 3 (ipykernel)",
   "language": "python",
   "name": "python3"
  },
  "language_info": {
   "codemirror_mode": {
    "name": "ipython",
    "version": 3
   },
   "file_extension": ".py",
   "mimetype": "text/x-python",
   "name": "python",
   "nbconvert_exporter": "python",
   "pygments_lexer": "ipython3",
   "version": "3.11.4"
  }
 },
 "nbformat": 4,
 "nbformat_minor": 5
}
