{
 "cells": [
  {
   "cell_type": "markdown",
   "id": "5cca0f40-4e58-4335-bf79-761469d766a6",
   "metadata": {},
   "source": [
    "# Exercises: Random Numbers"
   ]
  },
  {
   "cell_type": "code",
   "execution_count": 1,
   "id": "3ae46f56-7707-4825-aa87-4c9679f8051e",
   "metadata": {},
   "outputs": [],
   "source": [
    "import numpy as np"
   ]
  },
  {
   "cell_type": "markdown",
   "id": "f9a581e2-df93-418d-9463-0ce021ecad90",
   "metadata": {},
   "source": [
    "## 1. Create a Pseudo-Random Number Generator (PRNG) instance\n",
    "\n",
    "Create a PRNG and name it `rng`. Don't use a seed. Create several random numbers with `rng.random()`.\n",
    "Then, create a new, seedless `rng` and create several new random numbers. Note that these are different from before."
   ]
  },
  {
   "cell_type": "code",
   "execution_count": null,
   "id": "040c9cbf-2d39-46a2-8e4d-b8d14e0ce62d",
   "metadata": {},
   "outputs": [],
   "source": []
  },
  {
   "cell_type": "markdown",
   "id": "496016e4-19bb-4e71-8535-260c81178f3d",
   "metadata": {},
   "source": [
    "## 2. Work with seeds\n",
    "\n",
    "Create a PRNG and seed it with a fixed number. Create a vector of 5 random normal-distributed numbers.\n",
    "Then, create a new PRNG with the same seed, and create a new vector of 5 random normal-distributed numbers. Observe that the numbers are identical to before.\n",
    "\n",
    "Finally, create a PRNG with a different seed and use it to create a new vector of 5 random normal-distributed numbers."
   ]
  },
  {
   "cell_type": "code",
   "execution_count": null,
   "id": "7346d23d-1980-40f7-8d57-8c3ad7dedc89",
   "metadata": {},
   "outputs": [],
   "source": []
  },
  {
   "cell_type": "markdown",
   "id": "8dc2b5df-336c-45e0-8c77-f057f30f6505",
   "metadata": {},
   "source": [
    "## 3. Sample from a list of numbers\n",
    "\n",
    "Create an array named `squares` that contains the square numbers _0², 1², 2², ..., 9²_.\n",
    "Use a PRNG (`rng.choice()`) to sample 20 numbers from `squares`."
   ]
  },
  {
   "cell_type": "code",
   "execution_count": null,
   "id": "7cb4e021-d953-47bb-9c41-70a522ab5697",
   "metadata": {},
   "outputs": [],
   "source": []
  }
 ],
 "metadata": {
  "jupytext": {
   "formats": "ipynb,py:percent"
  },
  "kernelspec": {
   "display_name": "Python 3 (ipykernel)",
   "language": "python",
   "name": "python3"
  },
  "language_info": {
   "codemirror_mode": {
    "name": "ipython",
    "version": 3
   },
   "file_extension": ".py",
   "mimetype": "text/x-python",
   "name": "python",
   "nbconvert_exporter": "python",
   "pygments_lexer": "ipython3",
   "version": "3.11.4"
  }
 },
 "nbformat": 4,
 "nbformat_minor": 5
}
