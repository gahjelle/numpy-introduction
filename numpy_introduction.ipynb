{
 "cells": [
  {
   "cell_type": "markdown",
   "id": "d52444c5-a315-41e7-920b-54c261d65827",
   "metadata": {},
   "source": [
    "# Introduction to NumPy\n",
    "\n",
    "Geir Arne Hjelle, geirarne@gmail.com\n",
    "\n",
    "<https://github.com/gahjelle/numpy-introduction>"
   ]
  },
  {
   "cell_type": "markdown",
   "id": "6b5a67e0-15f5-4f02-9d3e-47cfd20bfc00",
   "metadata": {},
   "source": [
    "## Agenda\n",
    "\n",
    "- The NumPy array\n",
    "- Generating random numbers with NumPy\n",
    "- Vectorized operations\n",
    "- Linear algebra\n",
    "- Broadcasting"
   ]
  },
  {
   "cell_type": "code",
   "execution_count": 1,
   "id": "d32c7513-d6fb-4c63-8e91-2bb0e2cc2152",
   "metadata": {},
   "outputs": [],
   "source": [
    "import numpy as np"
   ]
  },
  {
   "cell_type": "markdown",
   "id": "72ee9252-e767-4784-9ba4-9b1a4ed5090f",
   "metadata": {},
   "source": [
    "## The NumPy Array"
   ]
  },
  {
   "cell_type": "markdown",
   "id": "ed852b02-22ba-473e-b058-06b0b33cdb38",
   "metadata": {},
   "source": [
    "You can convert lists and other iterables to NumPy arrays with `np.array()`:"
   ]
  },
  {
   "cell_type": "code",
   "execution_count": 2,
   "id": "da0262d9-bc34-4289-a631-c31b5ca116f2",
   "metadata": {},
   "outputs": [
    {
     "data": {
      "text/plain": [
       "array([1, 2, 3])"
      ]
     },
     "execution_count": 2,
     "metadata": {},
     "output_type": "execute_result"
    }
   ],
   "source": [
    "np.array([1, 2, 3])"
   ]
  },
  {
   "cell_type": "markdown",
   "id": "3715a96c-ab7b-452d-be84-0a2a522fbc1d",
   "metadata": {},
   "source": [
    "All elements in a NumPy array must have the same datatype. `np.array()` will cast to a common datatype if possible:"
   ]
  },
  {
   "cell_type": "code",
   "execution_count": 3,
   "id": "fff8138c-62cf-4011-aaf3-7ac1b016de47",
   "metadata": {},
   "outputs": [
    {
     "data": {
      "text/plain": [
       "array([1. , 2.3, 4. ])"
      ]
     },
     "execution_count": 3,
     "metadata": {},
     "output_type": "execute_result"
    }
   ],
   "source": [
    "np.array([1, 2.3, 4])"
   ]
  },
  {
   "cell_type": "code",
   "execution_count": 4,
   "id": "8ed0df73-0198-443f-ba3f-6dc78c97fddf",
   "metadata": {},
   "outputs": [
    {
     "data": {
      "text/plain": [
       "array(['1', 'a', 'True', '3.14'], dtype='<U32')"
      ]
     },
     "execution_count": 4,
     "metadata": {},
     "output_type": "execute_result"
    }
   ],
   "source": [
    "np.array([1, \"a\", True, 3.14])"
   ]
  },
  {
   "cell_type": "markdown",
   "id": "1b842481-b7f3-4c54-8695-348e730b8dc2",
   "metadata": {},
   "source": [
    "Typically, you'll work with arrays of integers or floats."
   ]
  },
  {
   "cell_type": "markdown",
   "id": "5c62f907-ff66-4dc4-9e74-26b2f3d85e17",
   "metadata": {},
   "source": [
    "NumPy arrays can have several dimensions:"
   ]
  },
  {
   "cell_type": "code",
   "execution_count": 5,
   "id": "03c8ba22-a8aa-46ee-ae84-9825f73bfe8c",
   "metadata": {},
   "outputs": [
    {
     "data": {
      "text/plain": [
       "array([[1, 2, 3],\n",
       "       [4, 5, 6]])"
      ]
     },
     "execution_count": 5,
     "metadata": {},
     "output_type": "execute_result"
    }
   ],
   "source": [
    "np.array([[1, 2, 3], [4, 5, 6]])"
   ]
  },
  {
   "cell_type": "code",
   "execution_count": 6,
   "id": "32d6c6c8-5476-4cd0-805c-0470dee09492",
   "metadata": {},
   "outputs": [
    {
     "data": {
      "text/plain": [
       "array([[[1, 2],\n",
       "        [3, 4]],\n",
       "\n",
       "       [[5, 6],\n",
       "        [7, 8]]])"
      ]
     },
     "execution_count": 6,
     "metadata": {},
     "output_type": "execute_result"
    }
   ],
   "source": [
    "np.array([[[1, 2], [3, 4]], [[5, 6], [7, 8]]])"
   ]
  },
  {
   "cell_type": "markdown",
   "id": "20c9a42e-5e7b-4d22-a9ac-04b3b299a898",
   "metadata": {},
   "source": [
    "A one-dimensional array often represents a vector and a two-dimensional array typically represents a matrix:"
   ]
  },
  {
   "cell_type": "code",
   "execution_count": 7,
   "id": "af033f4c-8739-4095-9734-61352706c6bb",
   "metadata": {},
   "outputs": [],
   "source": [
    "x = np.array([-1, 0, 2], dtype=\"float64\")\n",
    "A = np.array([[1, 0, 1], [0, 1, -1], [-1, 1, 0]])"
   ]
  },
  {
   "cell_type": "code",
   "execution_count": 8,
   "id": "e2451801-9d3a-4150-851a-a8cfff1f243c",
   "metadata": {},
   "outputs": [
    {
     "data": {
      "text/plain": [
       "1"
      ]
     },
     "execution_count": 8,
     "metadata": {},
     "output_type": "execute_result"
    }
   ],
   "source": [
    "x.ndim"
   ]
  },
  {
   "cell_type": "code",
   "execution_count": 9,
   "id": "1988a045-be09-4faf-b019-4813d6d17e27",
   "metadata": {},
   "outputs": [
    {
     "data": {
      "text/plain": [
       "2"
      ]
     },
     "execution_count": 9,
     "metadata": {},
     "output_type": "execute_result"
    }
   ],
   "source": [
    "A.ndim"
   ]
  },
  {
   "cell_type": "code",
   "execution_count": 10,
   "id": "b37621ae-5175-47b9-bd88-128561ef0b44",
   "metadata": {},
   "outputs": [
    {
     "data": {
      "text/plain": [
       "(3,)"
      ]
     },
     "execution_count": 10,
     "metadata": {},
     "output_type": "execute_result"
    }
   ],
   "source": [
    "x.shape"
   ]
  },
  {
   "cell_type": "code",
   "execution_count": 11,
   "id": "e3a3fde8-1fdf-4f13-bed0-d0a5f05c906d",
   "metadata": {},
   "outputs": [
    {
     "data": {
      "text/plain": [
       "(3, 3)"
      ]
     },
     "execution_count": 11,
     "metadata": {},
     "output_type": "execute_result"
    }
   ],
   "source": [
    "A.shape"
   ]
  },
  {
   "cell_type": "markdown",
   "id": "e5a92a8c-42e6-4fd5-917a-ad79ce633e61",
   "metadata": {},
   "source": [
    "There are functions that can create special arrays (<https://numpy.org/doc/stable/user/basics.creation.html>):"
   ]
  },
  {
   "cell_type": "code",
   "execution_count": 12,
   "id": "3b79bf0e-499a-4933-bcb5-9dec34fd13fa",
   "metadata": {},
   "outputs": [
    {
     "data": {
      "text/plain": [
       "array([[0., 0., 0.],\n",
       "       [0., 0., 0.]])"
      ]
     },
     "execution_count": 12,
     "metadata": {},
     "output_type": "execute_result"
    }
   ],
   "source": [
    "np.zeros((2, 3))"
   ]
  },
  {
   "cell_type": "code",
   "execution_count": 13,
   "id": "2f2433ef-8cba-47c3-8c22-37a0a56c81c5",
   "metadata": {},
   "outputs": [
    {
     "data": {
      "text/plain": [
       "array([[1., 1.],\n",
       "       [1., 1.],\n",
       "       [1., 1.]])"
      ]
     },
     "execution_count": 13,
     "metadata": {},
     "output_type": "execute_result"
    }
   ],
   "source": [
    "np.ones((3, 2))"
   ]
  },
  {
   "cell_type": "code",
   "execution_count": 14,
   "id": "21d3c863-e51a-4452-970c-eb6c6ebc9224",
   "metadata": {},
   "outputs": [
    {
     "data": {
      "text/plain": [
       "array([1. , 1.1, 1.2, 1.3, 1.4, 1.5, 1.6, 1.7, 1.8, 1.9])"
      ]
     },
     "execution_count": 14,
     "metadata": {},
     "output_type": "execute_result"
    }
   ],
   "source": [
    "np.arange(1, 2, 0.1)"
   ]
  },
  {
   "cell_type": "code",
   "execution_count": 15,
   "id": "7a323bd5-76e5-487e-b7b8-22f4c8f9d460",
   "metadata": {},
   "outputs": [
    {
     "data": {
      "text/plain": [
       "array([1. , 1.1, 1.2, 1.3, 1.4, 1.5, 1.6, 1.7, 1.8, 1.9, 2. ])"
      ]
     },
     "execution_count": 15,
     "metadata": {},
     "output_type": "execute_result"
    }
   ],
   "source": [
    "np.linspace(1, 2, 11)"
   ]
  },
  {
   "cell_type": "code",
   "execution_count": 16,
   "id": "819b8128-dd2c-4fff-b57c-aed7051610ba",
   "metadata": {},
   "outputs": [
    {
     "data": {
      "text/plain": [
       "array([[1., 0., 0.],\n",
       "       [0., 1., 0.],\n",
       "       [0., 0., 1.]])"
      ]
     },
     "execution_count": 16,
     "metadata": {},
     "output_type": "execute_result"
    }
   ],
   "source": [
    "np.eye(3)"
   ]
  },
  {
   "cell_type": "code",
   "execution_count": 17,
   "id": "de60c48c-1818-40ac-b73a-4e12fbc2a33d",
   "metadata": {},
   "outputs": [
    {
     "data": {
      "text/plain": [
       "array([[1, 0, 0],\n",
       "       [0, 2, 0],\n",
       "       [0, 0, 3]])"
      ]
     },
     "execution_count": 17,
     "metadata": {},
     "output_type": "execute_result"
    }
   ],
   "source": [
    "np.diag([1, 2, 3])"
   ]
  },
  {
   "cell_type": "markdown",
   "id": "8316395f-a112-489d-a074-f4013b394b87",
   "metadata": {},
   "source": [
    "You can **index** NumPy arrays similarly to Python lists:"
   ]
  },
  {
   "cell_type": "code",
   "execution_count": 18,
   "id": "2075268d-cd33-40b5-95ca-08fafc83b731",
   "metadata": {},
   "outputs": [
    {
     "data": {
      "text/plain": [
       "array([-1,  1,  0])"
      ]
     },
     "execution_count": 18,
     "metadata": {},
     "output_type": "execute_result"
    }
   ],
   "source": [
    "A[2]"
   ]
  },
  {
   "cell_type": "code",
   "execution_count": 19,
   "id": "48e9a0c0-d246-4ef4-ab27-a4f4572b3f02",
   "metadata": {},
   "outputs": [
    {
     "data": {
      "text/plain": [
       "0"
      ]
     },
     "execution_count": 19,
     "metadata": {},
     "output_type": "execute_result"
    }
   ],
   "source": [
    "A[0, 1]"
   ]
  },
  {
   "cell_type": "markdown",
   "id": "e86a115a-7d71-4c6a-b9dd-3a5d60ed54d1",
   "metadata": {},
   "source": [
    "Note that you can index into all dimensions by separating the indices by commas. Slices can also be used:"
   ]
  },
  {
   "cell_type": "code",
   "execution_count": 20,
   "id": "13ae76df-1bf3-4865-9ce1-61233d4f138b",
   "metadata": {},
   "outputs": [
    {
     "data": {
      "text/plain": [
       "array([[ 0,  1, -1],\n",
       "       [-1,  1,  0]])"
      ]
     },
     "execution_count": 20,
     "metadata": {},
     "output_type": "execute_result"
    }
   ],
   "source": [
    "A[1:]"
   ]
  },
  {
   "cell_type": "code",
   "execution_count": 21,
   "id": "fad5d698-5c18-433e-8928-cfdbd318d5fd",
   "metadata": {},
   "outputs": [
    {
     "data": {
      "text/plain": [
       "array([[ 0],\n",
       "       [-1]])"
      ]
     },
     "execution_count": 21,
     "metadata": {},
     "output_type": "execute_result"
    }
   ],
   "source": [
    "A[1:, :1]"
   ]
  },
  {
   "cell_type": "code",
   "execution_count": 22,
   "id": "99c16da4-8baa-4880-af0c-f46ce02e401b",
   "metadata": {},
   "outputs": [
    {
     "data": {
      "text/plain": [
       "array([ 1, -1,  0])"
      ]
     },
     "execution_count": 22,
     "metadata": {},
     "output_type": "execute_result"
    }
   ],
   "source": [
    "A[:, 2]"
   ]
  },
  {
   "cell_type": "code",
   "execution_count": 23,
   "id": "67b796a7-051e-4e79-9dcb-f065b3a510dc",
   "metadata": {},
   "outputs": [
    {
     "data": {
      "text/plain": [
       "array([[ 1],\n",
       "       [-1],\n",
       "       [ 0]])"
      ]
     },
     "execution_count": 23,
     "metadata": {},
     "output_type": "execute_result"
    }
   ],
   "source": [
    "A[:, 2:3]"
   ]
  },
  {
   "cell_type": "markdown",
   "id": "8b164fc6-a728-4ab3-85d5-563f4b202f30",
   "metadata": {},
   "source": [
    "You can create new dimensions by indexing with `np.newaxis` (or `None`):"
   ]
  },
  {
   "cell_type": "code",
   "execution_count": 24,
   "id": "0af6cf17-3cae-48e1-beed-54ec0c58ab6d",
   "metadata": {},
   "outputs": [
    {
     "data": {
      "text/plain": [
       "array([[-1.],\n",
       "       [ 0.],\n",
       "       [ 2.]])"
      ]
     },
     "execution_count": 24,
     "metadata": {},
     "output_type": "execute_result"
    }
   ],
   "source": [
    "x[:, np.newaxis]"
   ]
  },
  {
   "cell_type": "code",
   "execution_count": 25,
   "id": "7f92a2ac-7d6a-42c8-9c26-caa255d653f5",
   "metadata": {},
   "outputs": [
    {
     "data": {
      "text/plain": [
       "array([[-1.,  0.,  2.]])"
      ]
     },
     "execution_count": 25,
     "metadata": {},
     "output_type": "execute_result"
    }
   ],
   "source": [
    "x[np.newaxis, :]"
   ]
  },
  {
   "cell_type": "markdown",
   "id": "c77d954a-db4a-423c-9540-99dcf6fa530d",
   "metadata": {},
   "source": [
    "You can change the shape of an array with `.reshape()`:"
   ]
  },
  {
   "cell_type": "code",
   "execution_count": 26,
   "id": "31b98f2b-729b-49f4-9c6e-113dced0320a",
   "metadata": {},
   "outputs": [
    {
     "data": {
      "text/plain": [
       "array([[-1.],\n",
       "       [ 0.],\n",
       "       [ 2.]])"
      ]
     },
     "execution_count": 26,
     "metadata": {},
     "output_type": "execute_result"
    }
   ],
   "source": [
    "x.reshape((3, 1))"
   ]
  },
  {
   "cell_type": "code",
   "execution_count": 27,
   "id": "10af4e01-7bde-47b1-93cb-1c458bbb13a1",
   "metadata": {},
   "outputs": [
    {
     "data": {
      "text/plain": [
       "array([ 1,  0,  1,  0,  1, -1, -1,  1,  0])"
      ]
     },
     "execution_count": 27,
     "metadata": {},
     "output_type": "execute_result"
    }
   ],
   "source": [
    "A.reshape(9)"
   ]
  },
  {
   "cell_type": "code",
   "execution_count": 28,
   "id": "16831055-3e10-4af1-8620-b57247636281",
   "metadata": {},
   "outputs": [
    {
     "data": {
      "text/plain": [
       "array([ 1,  0,  1,  0,  1, -1, -1,  1,  0])"
      ]
     },
     "execution_count": 28,
     "metadata": {},
     "output_type": "execute_result"
    }
   ],
   "source": [
    "A.reshape(-1)"
   ]
  },
  {
   "cell_type": "markdown",
   "id": "ee2d6f39-527e-4d46-a7e8-a8bd3dc58078",
   "metadata": {},
   "source": [
    "Note that `-1` is a placeholder that can be used in one dimension to represent the \"necessary number of elements\"."
   ]
  },
  {
   "cell_type": "markdown",
   "id": "84cd3a4a-ce53-42ed-9e35-95030b57baee",
   "metadata": {},
   "source": [
    "## Generating Random Numbers"
   ]
  },
  {
   "cell_type": "markdown",
   "id": "6788841b-880e-482c-a265-872c1d31f80b",
   "metadata": {},
   "source": [
    "NumPy has a powerful mechanism for generating random numbers (<https://numpy.org/doc/stable/reference/random/index.html> and <https://realpython.com/numpy-random-number-generator/>):"
   ]
  },
  {
   "cell_type": "code",
   "execution_count": 29,
   "id": "74fe545c-a4c2-49ab-90e3-164cd5d2d93b",
   "metadata": {},
   "outputs": [
    {
     "data": {
      "text/plain": [
       "Generator(PCG64) at 0x7F4DA018B680"
      ]
     },
     "execution_count": 29,
     "metadata": {},
     "output_type": "execute_result"
    }
   ],
   "source": [
    "rng = np.random.default_rng(seed=0xba5e1)\n",
    "rng"
   ]
  },
  {
   "cell_type": "markdown",
   "id": "e7627f99-462e-4515-84f7-b037c10d30c8",
   "metadata": {},
   "source": [
    "An instance of a (pseudo)-random number generator (PRNG) can generate random numbers from many different distributions:"
   ]
  },
  {
   "cell_type": "code",
   "execution_count": 30,
   "id": "554a03b5-e9c4-44aa-83a1-b384dd9ec6f7",
   "metadata": {},
   "outputs": [
    {
     "data": {
      "text/plain": [
       "7.4733807849662774"
      ]
     },
     "execution_count": 30,
     "metadata": {},
     "output_type": "execute_result"
    }
   ],
   "source": [
    "rng.uniform(0, 10)"
   ]
  },
  {
   "cell_type": "code",
   "execution_count": 31,
   "id": "8f133270-ad25-4549-872b-822e34ab5050",
   "metadata": {},
   "outputs": [
    {
     "data": {
      "text/plain": [
       "array([[1.93899485, 8.6597296 , 7.51987487],\n",
       "       [3.92921776, 6.05336418, 8.00385771],\n",
       "       [4.98190324, 6.75017374, 4.94000277]])"
      ]
     },
     "execution_count": 31,
     "metadata": {},
     "output_type": "execute_result"
    }
   ],
   "source": [
    "rng.uniform(0, 10, size=(3, 3))"
   ]
  },
  {
   "cell_type": "code",
   "execution_count": 32,
   "id": "5abf1932-6a69-4fb5-872e-a5dfce442ca6",
   "metadata": {},
   "outputs": [
    {
     "data": {
      "text/plain": [
       "-0.8411429888224159"
      ]
     },
     "execution_count": 32,
     "metadata": {},
     "output_type": "execute_result"
    }
   ],
   "source": [
    "rng.normal()"
   ]
  },
  {
   "cell_type": "code",
   "execution_count": 33,
   "id": "b353a014-cb0a-4762-8713-dde62e332f70",
   "metadata": {},
   "outputs": [
    {
     "data": {
      "text/plain": [
       "array([-1.72390385, -0.78197317, -1.01104645, -0.1744181 ,  0.59087105,\n",
       "       -0.92860242,  0.6989071 , -1.68148475, -1.73323795, -1.35514273])"
      ]
     },
     "execution_count": 33,
     "metadata": {},
     "output_type": "execute_result"
    }
   ],
   "source": [
    "rng.normal(size=10)"
   ]
  },
  {
   "cell_type": "code",
   "execution_count": 34,
   "id": "1c56a84c-4c96-4a48-8e0c-041dff11a771",
   "metadata": {},
   "outputs": [
    {
     "data": {
      "text/plain": [
       "array([[ 0.38239346,  3.184656  ,  1.40496407, -1.52121546],\n",
       "       [ 9.88329585, 12.74914441, 11.33437718,  3.71635748]])"
      ]
     },
     "execution_count": 34,
     "metadata": {},
     "output_type": "execute_result"
    }
   ],
   "source": [
    "rng.normal(10, 5, size=(2, 4))"
   ]
  },
  {
   "cell_type": "markdown",
   "id": "4ed2250b-539f-476f-b6db-117b79f35269",
   "metadata": {},
   "source": [
    "## Vectorized Operations"
   ]
  },
  {
   "cell_type": "markdown",
   "id": "7f59f687-306c-4846-926f-e5c619c99beb",
   "metadata": {},
   "source": [
    "One of NumPy's absolute superpowers is that it supports **vectorized operations**:"
   ]
  },
  {
   "cell_type": "code",
   "execution_count": 35,
   "id": "f71b3a3a-6727-45e7-b011-ca4505b6779e",
   "metadata": {},
   "outputs": [
    {
     "data": {
      "text/plain": [
       "array([[3, 4, 3],\n",
       "       [5, 6, 2],\n",
       "       [4, 3, 2]])"
      ]
     },
     "execution_count": 35,
     "metadata": {},
     "output_type": "execute_result"
    }
   ],
   "source": [
    "x = np.arange(5)\n",
    "y = np.array([-1, 0, 1, 0, -1])\n",
    "A = rng.poisson(5, size=(3, 3))\n",
    "A"
   ]
  },
  {
   "cell_type": "markdown",
   "id": "7ef83a58-03c1-4115-98f3-8dc906d11675",
   "metadata": {},
   "source": [
    "Operations on NumPy arrays are typically performed elementwise:"
   ]
  },
  {
   "cell_type": "code",
   "execution_count": 36,
   "id": "87651dc4-ec78-4d87-a8c4-e1b52e54437f",
   "metadata": {},
   "outputs": [
    {
     "data": {
      "text/plain": [
       "array([-1,  1,  3,  3,  3])"
      ]
     },
     "execution_count": 36,
     "metadata": {},
     "output_type": "execute_result"
    }
   ],
   "source": [
    "x + y"
   ]
  },
  {
   "cell_type": "code",
   "execution_count": 37,
   "id": "082fad4d-d486-4f1e-88a6-1be82fdde4f4",
   "metadata": {},
   "outputs": [
    {
     "data": {
      "text/plain": [
       "array([ 0,  0,  2,  0, -4])"
      ]
     },
     "execution_count": 37,
     "metadata": {},
     "output_type": "execute_result"
    }
   ],
   "source": [
    "x * y"
   ]
  },
  {
   "cell_type": "code",
   "execution_count": 38,
   "id": "c4c855f7-0769-4ccf-a54e-e11d66c3e6bd",
   "metadata": {},
   "outputs": [
    {
     "data": {
      "text/plain": [
       "array([ 1.        ,  2.71828183,  7.3890561 , 20.08553692, 54.59815003])"
      ]
     },
     "execution_count": 38,
     "metadata": {},
     "output_type": "execute_result"
    }
   ],
   "source": [
    "np.exp(x)"
   ]
  },
  {
   "cell_type": "code",
   "execution_count": 39,
   "id": "1218a644-0acb-4025-bd4b-b710b9f2fb54",
   "metadata": {},
   "outputs": [
    {
     "data": {
      "text/plain": [
       "array([0.54030231, 1.        , 0.54030231, 1.        , 0.54030231])"
      ]
     },
     "execution_count": 39,
     "metadata": {},
     "output_type": "execute_result"
    }
   ],
   "source": [
    "np.cos(y)"
   ]
  },
  {
   "cell_type": "code",
   "execution_count": 40,
   "id": "f8252c3f-7505-4705-b8cb-89ab0177ec30",
   "metadata": {},
   "outputs": [
    {
     "data": {
      "text/plain": [
       "array([[0.33333333, 0.25      , 0.33333333],\n",
       "       [0.2       , 0.16666667, 0.5       ],\n",
       "       [0.25      , 0.33333333, 0.5       ]])"
      ]
     },
     "execution_count": 40,
     "metadata": {},
     "output_type": "execute_result"
    }
   ],
   "source": [
    "1 / A"
   ]
  },
  {
   "cell_type": "markdown",
   "id": "ed57b46b-a267-4eaa-a99c-a312e3a1cd31",
   "metadata": {},
   "source": [
    "**Side-note:** Vectorized operations means that you usually **DON'T** need to run loops when working with NumPy. This is important, especially for performance:"
   ]
  },
  {
   "cell_type": "code",
   "execution_count": 41,
   "id": "95d44e16-c2fa-4102-98eb-b8a061175e4c",
   "metadata": {},
   "outputs": [],
   "source": [
    "numbers_list = list(range(1_000_000))\n",
    "numbers_array = np.array(numbers_list)"
   ]
  },
  {
   "cell_type": "code",
   "execution_count": 42,
   "id": "ba33a773-6f55-4cc4-93dd-c06570dedf96",
   "metadata": {},
   "outputs": [
    {
     "name": "stdout",
     "output_type": "stream",
     "text": [
      "41.2 ms ± 741 µs per loop (mean ± std. dev. of 7 runs, 10 loops each)\n"
     ]
    }
   ],
   "source": [
    "%%timeit\n",
    "[x**2 for x in numbers_list]"
   ]
  },
  {
   "cell_type": "code",
   "execution_count": 43,
   "id": "ea2f0900-be0d-4166-9a29-4220f7e5f1d2",
   "metadata": {},
   "outputs": [
    {
     "name": "stdout",
     "output_type": "stream",
     "text": [
      "634 µs ± 9.32 µs per loop (mean ± std. dev. of 7 runs, 1,000 loops each)\n"
     ]
    }
   ],
   "source": [
    "%%timeit\n",
    "numbers_array**2"
   ]
  },
  {
   "cell_type": "markdown",
   "id": "9b0594c2-fb6b-42f9-90bd-87a3d0837669",
   "metadata": {},
   "source": [
    "`%%timeit` is a special Jupyter/IPython command that allows you to do simple benchmarking of code cells."
   ]
  },
  {
   "cell_type": "markdown",
   "id": "c753c6a3-0a2e-4eff-bcec-c1b2983fc34e",
   "metadata": {},
   "source": [
    "Some operators work on the whole array:"
   ]
  },
  {
   "cell_type": "code",
   "execution_count": 44,
   "id": "ac973626-b037-4eea-bdde-b59a2238f42a",
   "metadata": {},
   "outputs": [
    {
     "data": {
      "text/plain": [
       "-2"
      ]
     },
     "execution_count": 44,
     "metadata": {},
     "output_type": "execute_result"
    }
   ],
   "source": [
    "x @ y"
   ]
  },
  {
   "cell_type": "markdown",
   "id": "07501f36-f4b3-4cce-8130-56b85a0e99f6",
   "metadata": {},
   "source": [
    "The `@` operator performs dot-products on vectors. It'll do matrix multiplication if applied on a matrix:"
   ]
  },
  {
   "cell_type": "code",
   "execution_count": 45,
   "id": "91582215-8269-4780-a70c-bbc11ef5c589",
   "metadata": {},
   "outputs": [
    {
     "data": {
      "text/plain": [
       "array([[3, 4, 3],\n",
       "       [5, 6, 2],\n",
       "       [4, 3, 2]])"
      ]
     },
     "execution_count": 45,
     "metadata": {},
     "output_type": "execute_result"
    }
   ],
   "source": [
    "z = np.array([1, 0, -1])\n",
    "A"
   ]
  },
  {
   "cell_type": "code",
   "execution_count": 46,
   "id": "b6bb68c1-f806-42e8-8d8f-7cdb14a1d8ad",
   "metadata": {},
   "outputs": [
    {
     "data": {
      "text/plain": [
       "array([0, 3, 2])"
      ]
     },
     "execution_count": 46,
     "metadata": {},
     "output_type": "execute_result"
    }
   ],
   "source": [
    "A @ z"
   ]
  },
  {
   "cell_type": "code",
   "execution_count": 47,
   "id": "96fd7282-f066-4d17-a97b-8fbb26a3aa59",
   "metadata": {},
   "outputs": [
    {
     "data": {
      "text/plain": [
       "array([-1,  1,  1])"
      ]
     },
     "execution_count": 47,
     "metadata": {},
     "output_type": "execute_result"
    }
   ],
   "source": [
    "z @ A"
   ]
  },
  {
   "cell_type": "code",
   "execution_count": 48,
   "id": "9d03b08d-2f57-4749-bcc5-39ab5fa69b6d",
   "metadata": {},
   "outputs": [
    {
     "data": {
      "text/plain": [
       "array([[41, 45, 23],\n",
       "       [53, 62, 31],\n",
       "       [35, 40, 22]])"
      ]
     },
     "execution_count": 48,
     "metadata": {},
     "output_type": "execute_result"
    }
   ],
   "source": [
    "A @ A"
   ]
  },
  {
   "cell_type": "markdown",
   "id": "33b03389-14fb-4d26-8572-d5702127e812",
   "metadata": {},
   "source": [
    "## Linear Algebra"
   ]
  },
  {
   "cell_type": "markdown",
   "id": "f8ec4fc0-4cb8-4f07-821e-9109118eb4b9",
   "metadata": {},
   "source": [
    "NumPy is a great tool for doing linear algebra. There are several dedicated functions in the `np.linalg` module:"
   ]
  },
  {
   "cell_type": "code",
   "execution_count": 49,
   "id": "4e4cc179-88f2-4a40-ac3d-b650667fe151",
   "metadata": {},
   "outputs": [
    {
     "data": {
      "text/plain": [
       "-17.0"
      ]
     },
     "execution_count": 49,
     "metadata": {},
     "output_type": "execute_result"
    }
   ],
   "source": [
    "np.linalg.det(A)"
   ]
  },
  {
   "cell_type": "code",
   "execution_count": 50,
   "id": "4a9cd1bf-c4ff-48e1-9cc5-f0e6a765ad5f",
   "metadata": {},
   "outputs": [
    {
     "data": {
      "text/plain": [
       "11.313708498984761"
      ]
     },
     "execution_count": 50,
     "metadata": {},
     "output_type": "execute_result"
    }
   ],
   "source": [
    "np.linalg.norm(A)"
   ]
  },
  {
   "cell_type": "code",
   "execution_count": 51,
   "id": "58f24abe-16e1-41cb-9818-c97da2163e36",
   "metadata": {},
   "outputs": [
    {
     "data": {
      "text/plain": [
       "array([[-0.35294118, -0.05882353,  0.58823529],\n",
       "       [ 0.11764706,  0.35294118, -0.52941176],\n",
       "       [ 0.52941176, -0.41176471,  0.11764706]])"
      ]
     },
     "execution_count": 51,
     "metadata": {},
     "output_type": "execute_result"
    }
   ],
   "source": [
    "np.linalg.inv(A)"
   ]
  },
  {
   "cell_type": "code",
   "execution_count": 52,
   "id": "9870ad42-b0db-47c6-aeb7-3f60402e10cc",
   "metadata": {},
   "outputs": [
    {
     "data": {
      "text/plain": [
       "array([[ 1.00000000e+00,  5.55111512e-16,  2.22044605e-16],\n",
       "       [ 0.00000000e+00,  1.00000000e+00,  0.00000000e+00],\n",
       "       [-2.22044605e-16,  8.32667268e-17,  1.00000000e+00]])"
      ]
     },
     "execution_count": 52,
     "metadata": {},
     "output_type": "execute_result"
    }
   ],
   "source": [
    "np.linalg.inv(A) @ A"
   ]
  },
  {
   "cell_type": "code",
   "execution_count": 68,
   "id": "7e323a03-935f-4083-b979-f4eb1d6e88e3",
   "metadata": {},
   "outputs": [
    {
     "data": {
      "text/plain": [
       "array([[2, 3, 5],\n",
       "       [7, 4, 8],\n",
       "       [7, 2, 6]])"
      ]
     },
     "execution_count": 68,
     "metadata": {},
     "output_type": "execute_result"
    }
   ],
   "source": [
    "A.T"
   ]
  },
  {
   "cell_type": "markdown",
   "id": "11a6df30-efbe-4c6c-9e4f-0f5e27089d66",
   "metadata": {},
   "source": [
    "In practice, you more often work with non-square matrices. The **pseudoinverse** is useful in these cases:"
   ]
  },
  {
   "cell_type": "code",
   "execution_count": 53,
   "id": "eb00409d-ce28-4e9c-86fb-61c8d94d19f1",
   "metadata": {},
   "outputs": [],
   "source": [
    "A = np.array([[1, 2], [3, 0], [0, 2]])\n",
    "b = np.array([30, 15, 20])"
   ]
  },
  {
   "cell_type": "markdown",
   "id": "b7785bc8-55fa-4f93-8d2d-8d9a6e0d02ce",
   "metadata": {},
   "source": [
    "This represents the matrix and vector\n",
    "\n",
    "$$\n",
    "A = \\begin{bmatrix} 1 & 2 \\\\ 3 & 0 \\\\ 0 & 2 \\end{bmatrix}, \\\n",
    "b = \\begin{pmatrix} 30 \\\\ 15 \\\\ 20 \\end{pmatrix}\n",
    "$$\n",
    "\n",
    "Consider the equation $Ax = b$ which can be expressed as the following:\n",
    "\n",
    "$$\n",
    "\\begin{align}\n",
    "u + 2 v &= 30 \\\\\n",
    "3u &= 15 \\\\\n",
    "2v &= 20\n",
    "\\end{align}\n",
    "$$\n",
    "\n",
    "Note that $x = (5, 10)$ or $u = 5$, $v = 10$ would be the solution to the system represented by the last two rows of $A$ and $b$. This is not consistent with the first row, so there is no exact solution to the equation $Ax = b$."
   ]
  },
  {
   "cell_type": "code",
   "execution_count": 54,
   "id": "909ec12a-7027-48ba-8cba-6a5b5ed5f232",
   "metadata": {},
   "outputs": [
    {
     "data": {
      "text/plain": [
       "array([[ 0.05263158,  0.31578947, -0.05263158],\n",
       "       [ 0.23684211, -0.07894737,  0.26315789]])"
      ]
     },
     "execution_count": 54,
     "metadata": {},
     "output_type": "execute_result"
    }
   ],
   "source": [
    "np.linalg.pinv(A)"
   ]
  },
  {
   "cell_type": "code",
   "execution_count": 55,
   "id": "2a345e53-026b-4c85-b085-20b72f9071e2",
   "metadata": {},
   "outputs": [
    {
     "data": {
      "text/plain": [
       "array([ 5.26315789, 11.18421053])"
      ]
     },
     "execution_count": 55,
     "metadata": {},
     "output_type": "execute_result"
    }
   ],
   "source": [
    "np.linalg.pinv(A) @ b"
   ]
  },
  {
   "cell_type": "code",
   "execution_count": 56,
   "id": "847b1add-2eef-47d7-839f-c0e1ec194b78",
   "metadata": {},
   "outputs": [
    {
     "data": {
      "text/plain": [
       "(array([ 5.26315789, 11.18421053]),\n",
       " array([11.84210526]),\n",
       " 2,\n",
       " array([3.35202446, 2.60075605]))"
      ]
     },
     "execution_count": 56,
     "metadata": {},
     "output_type": "execute_result"
    }
   ],
   "source": [
    "np.linalg.lstsq(A, b, rcond=None)"
   ]
  },
  {
   "cell_type": "markdown",
   "id": "311462e1-1385-4f04-ae8b-50b1504f023f",
   "metadata": {},
   "source": [
    "See <RP> for more information."
   ]
  },
  {
   "cell_type": "markdown",
   "id": "4f87b814-ff23-4e1b-8cc4-6dae280fec3d",
   "metadata": {},
   "source": [
    "## Broadcasting"
   ]
  },
  {
   "cell_type": "markdown",
   "id": "ae2daf35-0e46-49f6-b766-b6ec461c8b5d",
   "metadata": {},
   "source": [
    "Broadcasting is a cousin of vectorization and makes many operations in NumPy extra powerful.\n",
    "\n",
    "In short, in many cases, NumPy can adapt the shape of an array to make it consistent with another."
   ]
  },
  {
   "cell_type": "code",
   "execution_count": 57,
   "id": "1e85fee5-3eda-4fff-8e8c-eef39a4b99f2",
   "metadata": {},
   "outputs": [
    {
     "data": {
      "text/plain": [
       "(array([[2, 7, 7],\n",
       "        [3, 4, 2],\n",
       "        [5, 8, 6]]),\n",
       " array([2, 4, 6]))"
      ]
     },
     "execution_count": 57,
     "metadata": {},
     "output_type": "execute_result"
    }
   ],
   "source": [
    "A = rng.poisson(5, size=(3, 3))\n",
    "x = np.arange(2, 7, 2)\n",
    "A, x"
   ]
  },
  {
   "cell_type": "code",
   "execution_count": 58,
   "id": "126bbf04-099d-46bc-ad30-602d49916499",
   "metadata": {},
   "outputs": [
    {
     "data": {
      "text/plain": [
       "array([[ 4, 14, 14],\n",
       "       [ 6,  8,  4],\n",
       "       [10, 16, 12]])"
      ]
     },
     "execution_count": 58,
     "metadata": {},
     "output_type": "execute_result"
    }
   ],
   "source": [
    "A + A"
   ]
  },
  {
   "cell_type": "code",
   "execution_count": 59,
   "id": "0c8c8553-a63e-401b-ac19-2b4345de17e3",
   "metadata": {},
   "outputs": [
    {
     "data": {
      "text/plain": [
       "array([[ 4, 11, 13],\n",
       "       [ 5,  8,  8],\n",
       "       [ 7, 12, 12]])"
      ]
     },
     "execution_count": 59,
     "metadata": {},
     "output_type": "execute_result"
    }
   ],
   "source": [
    "A + x"
   ]
  },
  {
   "cell_type": "markdown",
   "id": "1eee2f98-0fad-4faf-be7b-1730c13a56ae",
   "metadata": {},
   "source": [
    "Even though `x` is one-dimensional, it's broadcast into two dimensions. The first element of `x` is added to every element in the first column of `A`. The second element of `x` is added to every element in the second column of `A` and so on.\n",
    "\n",
    "A common usecase for broadcasting is for applying operations with scalars:"
   ]
  },
  {
   "cell_type": "code",
   "execution_count": 60,
   "id": "840f5c4c-2bd2-4653-9139-08eb26d87047",
   "metadata": {},
   "outputs": [
    {
     "data": {
      "text/plain": [
       "array([[ 6, 21, 21],\n",
       "       [ 9, 12,  6],\n",
       "       [15, 24, 18]])"
      ]
     },
     "execution_count": 60,
     "metadata": {},
     "output_type": "execute_result"
    }
   ],
   "source": [
    "3 * A"
   ]
  },
  {
   "cell_type": "code",
   "execution_count": 61,
   "id": "89d34730-ae6f-472d-a0f3-3b67930ee232",
   "metadata": {},
   "outputs": [
    {
     "data": {
      "text/plain": [
       "array([0, 2, 4])"
      ]
     },
     "execution_count": 61,
     "metadata": {},
     "output_type": "execute_result"
    }
   ],
   "source": [
    "x - 2"
   ]
  },
  {
   "cell_type": "code",
   "execution_count": 62,
   "id": "ad668c0b-ad32-401b-ab12-a07680835b35",
   "metadata": {},
   "outputs": [
    {
     "data": {
      "text/plain": [
       "array([[-1.        , 25.5       , 40.33333333],\n",
       "       [ 1.        , 13.5       , 10.33333333],\n",
       "       [ 5.        , 29.5       , 34.33333333]])"
      ]
     },
     "execution_count": 62,
     "metadata": {},
     "output_type": "execute_result"
    }
   ],
   "source": [
    "A * x - 10 / x"
   ]
  },
  {
   "cell_type": "markdown",
   "id": "5e85abff-2d79-4bf7-bd6e-4ee2d7e4e32b",
   "metadata": {},
   "source": [
    "In operations that require \"compatible\" arrays, broadcasting works by comparing shapes starting at the \"last\" dimension. If one array has **one** element in that dimension, it will be broadcast to match the other array."
   ]
  },
  {
   "cell_type": "code",
   "execution_count": 63,
   "id": "a257ed4e-99b7-479a-b4fc-1c69fb68c33e",
   "metadata": {},
   "outputs": [],
   "source": [
    "B = np.ones((4, 3, 2), dtype=\"int8\")"
   ]
  },
  {
   "cell_type": "code",
   "execution_count": 64,
   "id": "59289439-ef81-4cd4-9b3a-c17cd9cb7ac2",
   "metadata": {},
   "outputs": [
    {
     "data": {
      "text/plain": [
       "array([[[1, 1],\n",
       "        [1, 1],\n",
       "        [1, 1]],\n",
       "\n",
       "       [[2, 2],\n",
       "        [2, 2],\n",
       "        [2, 2]],\n",
       "\n",
       "       [[3, 3],\n",
       "        [3, 3],\n",
       "        [3, 3]],\n",
       "\n",
       "       [[4, 4],\n",
       "        [4, 4],\n",
       "        [4, 4]]])"
      ]
     },
     "execution_count": 64,
     "metadata": {},
     "output_type": "execute_result"
    }
   ],
   "source": [
    "B + np.arange(4).reshape(4, 1, 1)"
   ]
  },
  {
   "cell_type": "code",
   "execution_count": 65,
   "id": "ff7fe1bb-02d0-4a0f-85a4-ea7d6af90799",
   "metadata": {},
   "outputs": [
    {
     "data": {
      "text/plain": [
       "array([[[1, 2],\n",
       "        [1, 2],\n",
       "        [1, 2]],\n",
       "\n",
       "       [[3, 4],\n",
       "        [3, 4],\n",
       "        [3, 4]],\n",
       "\n",
       "       [[5, 6],\n",
       "        [5, 6],\n",
       "        [5, 6]],\n",
       "\n",
       "       [[7, 8],\n",
       "        [7, 8],\n",
       "        [7, 8]]])"
      ]
     },
     "execution_count": 65,
     "metadata": {},
     "output_type": "execute_result"
    }
   ],
   "source": [
    "B + np.arange(8).reshape(4, 1, 2)"
   ]
  },
  {
   "cell_type": "markdown",
   "id": "0e365321-839d-499b-94c9-77e576a1646d",
   "metadata": {},
   "source": [
    "You can use `np.newaxis` to control the broadcasting:"
   ]
  },
  {
   "cell_type": "code",
   "execution_count": 66,
   "id": "9da323de-9ca5-4a03-9402-77af654052a5",
   "metadata": {},
   "outputs": [
    {
     "data": {
      "text/plain": [
       "array([[ 4,  9,  9],\n",
       "       [ 7,  8,  6],\n",
       "       [11, 14, 12]])"
      ]
     },
     "execution_count": 66,
     "metadata": {},
     "output_type": "execute_result"
    }
   ],
   "source": [
    "A + x[:, np.newaxis]"
   ]
  },
  {
   "cell_type": "code",
   "execution_count": 67,
   "id": "065074ae-6feb-4358-8f03-e7d5db46f8ea",
   "metadata": {},
   "outputs": [
    {
     "data": {
      "text/plain": [
       "array([[ 4, 11, 13],\n",
       "       [ 5,  8,  8],\n",
       "       [ 7, 12, 12]])"
      ]
     },
     "execution_count": 67,
     "metadata": {},
     "output_type": "execute_result"
    }
   ],
   "source": [
    "A + x[np.newaxis, :]"
   ]
  },
  {
   "cell_type": "code",
   "execution_count": null,
   "id": "b6504d98-9450-41db-af52-551dd478bf94",
   "metadata": {},
   "outputs": [],
   "source": []
  }
 ],
 "metadata": {
  "jupytext": {
   "formats": "ipynb,py:percent"
  },
  "kernelspec": {
   "display_name": "Python 3 (ipykernel)",
   "language": "python",
   "name": "python3"
  },
  "language_info": {
   "codemirror_mode": {
    "name": "ipython",
    "version": 3
   },
   "file_extension": ".py",
   "mimetype": "text/x-python",
   "name": "python",
   "nbconvert_exporter": "python",
   "pygments_lexer": "ipython3",
   "version": "3.11.4"
  }
 },
 "nbformat": 4,
 "nbformat_minor": 5
}
